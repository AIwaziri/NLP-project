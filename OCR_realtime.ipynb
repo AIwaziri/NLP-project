{
 "cells": [
  {
   "metadata": {},
   "cell_type": "code",
   "source": "",
   "id": "6c44855c834bb666",
   "outputs": [],
   "execution_count": null
  },
  {
   "metadata": {
    "ExecuteTime": {
     "end_time": "2025-05-09T23:46:33.329961Z",
     "start_time": "2025-05-09T23:46:33.321278Z"
    }
   },
   "cell_type": "code",
   "source": [
    "import cv2\n",
    "import pytesseract\n",
    "import spacy\n",
    "from transformers import MarianMTModel, MarianTokenizer\n",
    "from langdetect import detect"
   ],
   "id": "initial_id",
   "outputs": [],
   "execution_count": 17
  },
  {
   "metadata": {
    "ExecuteTime": {
     "end_time": "2025-05-09T23:46:34.784083Z",
     "start_time": "2025-05-09T23:46:34.305696Z"
    }
   },
   "cell_type": "code",
   "source": [
    "# Load spaCy for sentence segmentation\n",
    "nlp = spacy.load(\"en_core_web_sm\")"
   ],
   "id": "b854ccdaaab629c9",
   "outputs": [],
   "execution_count": 18
  },
  {
   "metadata": {
    "ExecuteTime": {
     "end_time": "2025-05-09T23:46:40.441802Z",
     "start_time": "2025-05-09T23:46:35.521365Z"
    }
   },
   "cell_type": "code",
   "source": [
    "# Load translation models\n",
    "model_en_ar = MarianMTModel.from_pretrained(\"Helsinki-NLP/opus-mt-en-ar\")\n",
    "tokenizer_en_ar = MarianTokenizer.from_pretrained(\"Helsinki-NLP/opus-mt-en-ar\")\n",
    "\n",
    "model_ar_en = MarianMTModel.from_pretrained(\"Helsinki-NLP/opus-mt-ar-en\")\n",
    "tokenizer_ar_en = MarianTokenizer.from_pretrained(\"Helsinki-NLP/opus-mt-ar-en\")"
   ],
   "id": "df336ecd8b133d29",
   "outputs": [
    {
     "name": "stderr",
     "output_type": "stream",
     "text": [
      "/Library/Frameworks/Python.framework/Versions/3.12/lib/python3.12/site-packages/transformers/models/marian/tokenization_marian.py:175: UserWarning: Recommended: pip install sacremoses.\n",
      "  warnings.warn(\"Recommended: pip install sacremoses.\")\n"
     ]
    }
   ],
   "execution_count": 19
  },
  {
   "metadata": {
    "ExecuteTime": {
     "end_time": "2025-05-09T23:46:46.451450Z",
     "start_time": "2025-05-09T23:46:46.437455Z"
    }
   },
   "cell_type": "code",
   "source": [
    "def translate_text(text, src_lang):\n",
    "    if src_lang == \"en\":\n",
    "        tokenizer, model = tokenizer_en_ar, model_en_ar\n",
    "    elif src_lang == \"ar\":\n",
    "        tokenizer, model = tokenizer_ar_en, model_ar_en\n",
    "    else:\n",
    "        return \"\"\n",
    "\n",
    "    tokens = tokenizer(text, return_tensors=\"pt\", truncation=True, padding=True)\n",
    "    translated = model.generate(**tokens)\n",
    "    return tokenizer.decode(translated[0], skip_special_tokens=True)"
   ],
   "id": "b38617684ad8f4e",
   "outputs": [],
   "execution_count": 20
  },
  {
   "metadata": {
    "ExecuteTime": {
     "end_time": "2025-05-09T23:46:46.980498Z",
     "start_time": "2025-05-09T23:46:46.978339Z"
    }
   },
   "cell_type": "code",
   "source": [
    "def detect_lang(text):\n",
    "    try:\n",
    "        return detect(text)\n",
    "    except:\n",
    "        return \"unknown\""
   ],
   "id": "170e8d17a99a0a99",
   "outputs": [],
   "execution_count": 21
  },
  {
   "metadata": {
    "ExecuteTime": {
     "end_time": "2025-05-09T23:46:49.807964Z",
     "start_time": "2025-05-09T23:46:49.804118Z"
    }
   },
   "cell_type": "code",
   "source": [
    "def ocr_and_translate(frame):\n",
    "    gray = cv2.cvtColor(frame, cv2.COLOR_BGR2GRAY)\n",
    "    text = pytesseract.image_to_string(gray, lang=\"eng+ara\")\n",
    "\n",
    "    doc = nlp(text)\n",
    "    sentences = [sent.text.strip() for sent in doc.sents if sent.text.strip()]\n",
    "\n",
    "    results = []\n",
    "    for sent in sentences:\n",
    "        lang = detect_lang(sent)\n",
    "        if lang in [\"en\", \"ar\"]:\n",
    "            translated = translate_text(sent, lang)\n",
    "            results.append((sent, translated))\n",
    "    return results"
   ],
   "id": "7116db2389b5ccb3",
   "outputs": [],
   "execution_count": 22
  },
  {
   "metadata": {
    "ExecuteTime": {
     "end_time": "2025-05-09T23:47:27.994683Z",
     "start_time": "2025-05-09T23:46:50.839013Z"
    }
   },
   "cell_type": "code",
   "source": [
    "# Real-time video capture\n",
    "cap = cv2.VideoCapture(0)\n",
    "\n",
    "while True:\n",
    "    ret, frame = cap.read()\n",
    "    if not ret:\n",
    "        break\n",
    "\n",
    "    translations = ocr_and_translate(frame)\n",
    "\n",
    "    y = 30\n",
    "    for original, translated in translations:\n",
    "        text_display = f\"{original} => {translated}\"\n",
    "        cv2.putText(frame, text_display, (10, y), cv2.FONT_HERSHEY_SIMPLEX,\n",
    "                    0.5, (0, 255, 0), 1, cv2.LINE_AA)\n",
    "        y += 30\n",
    "\n",
    "    cv2.imshow(\"English toArabic OCR Translation\", frame)\n",
    "\n",
    "    if cv2.waitKey(1) & 0xFF == ord('q'):\n",
    "        break\n",
    "cap.release()\n",
    "cv2.destroyAllWindows()"
   ],
   "id": "a9faac896e1cd0f7",
   "outputs": [
    {
     "ename": "KeyboardInterrupt",
     "evalue": "",
     "output_type": "error",
     "traceback": [
      "\u001B[0;31m---------------------------------------------------------------------------\u001B[0m",
      "\u001B[0;31mKeyboardInterrupt\u001B[0m                         Traceback (most recent call last)",
      "Cell \u001B[0;32mIn[23], line 9\u001B[0m\n\u001B[1;32m      6\u001B[0m \u001B[38;5;28;01mif\u001B[39;00m \u001B[38;5;129;01mnot\u001B[39;00m ret:\n\u001B[1;32m      7\u001B[0m     \u001B[38;5;28;01mbreak\u001B[39;00m\n\u001B[0;32m----> 9\u001B[0m translations \u001B[38;5;241m=\u001B[39m \u001B[43mocr_and_translate\u001B[49m\u001B[43m(\u001B[49m\u001B[43mframe\u001B[49m\u001B[43m)\u001B[49m\n\u001B[1;32m     11\u001B[0m y \u001B[38;5;241m=\u001B[39m \u001B[38;5;241m30\u001B[39m\n\u001B[1;32m     12\u001B[0m \u001B[38;5;28;01mfor\u001B[39;00m original, translated \u001B[38;5;129;01min\u001B[39;00m translations:\n",
      "Cell \u001B[0;32mIn[22], line 3\u001B[0m, in \u001B[0;36mocr_and_translate\u001B[0;34m(frame)\u001B[0m\n\u001B[1;32m      1\u001B[0m \u001B[38;5;28;01mdef\u001B[39;00m \u001B[38;5;21mocr_and_translate\u001B[39m(frame):\n\u001B[1;32m      2\u001B[0m     gray \u001B[38;5;241m=\u001B[39m cv2\u001B[38;5;241m.\u001B[39mcvtColor(frame, cv2\u001B[38;5;241m.\u001B[39mCOLOR_BGR2GRAY)\n\u001B[0;32m----> 3\u001B[0m     text \u001B[38;5;241m=\u001B[39m \u001B[43mpytesseract\u001B[49m\u001B[38;5;241;43m.\u001B[39;49m\u001B[43mimage_to_string\u001B[49m\u001B[43m(\u001B[49m\u001B[43mgray\u001B[49m\u001B[43m,\u001B[49m\u001B[43m \u001B[49m\u001B[43mlang\u001B[49m\u001B[38;5;241;43m=\u001B[39;49m\u001B[38;5;124;43m\"\u001B[39;49m\u001B[38;5;124;43meng+ara\u001B[39;49m\u001B[38;5;124;43m\"\u001B[39;49m\u001B[43m)\u001B[49m\n\u001B[1;32m      5\u001B[0m     doc \u001B[38;5;241m=\u001B[39m nlp(text)\n\u001B[1;32m      6\u001B[0m     sentences \u001B[38;5;241m=\u001B[39m [sent\u001B[38;5;241m.\u001B[39mtext\u001B[38;5;241m.\u001B[39mstrip() \u001B[38;5;28;01mfor\u001B[39;00m sent \u001B[38;5;129;01min\u001B[39;00m doc\u001B[38;5;241m.\u001B[39msents \u001B[38;5;28;01mif\u001B[39;00m sent\u001B[38;5;241m.\u001B[39mtext\u001B[38;5;241m.\u001B[39mstrip()]\n",
      "File \u001B[0;32m/Library/Frameworks/Python.framework/Versions/3.12/lib/python3.12/site-packages/pytesseract/pytesseract.py:486\u001B[0m, in \u001B[0;36mimage_to_string\u001B[0;34m(image, lang, config, nice, output_type, timeout)\u001B[0m\n\u001B[1;32m    481\u001B[0m \u001B[38;5;250m\u001B[39m\u001B[38;5;124;03m\"\"\"\u001B[39;00m\n\u001B[1;32m    482\u001B[0m \u001B[38;5;124;03mReturns the result of a Tesseract OCR run on the provided image to string\u001B[39;00m\n\u001B[1;32m    483\u001B[0m \u001B[38;5;124;03m\"\"\"\u001B[39;00m\n\u001B[1;32m    484\u001B[0m args \u001B[38;5;241m=\u001B[39m [image, \u001B[38;5;124m'\u001B[39m\u001B[38;5;124mtxt\u001B[39m\u001B[38;5;124m'\u001B[39m, lang, config, nice, timeout]\n\u001B[0;32m--> 486\u001B[0m \u001B[38;5;28;01mreturn\u001B[39;00m \u001B[43m{\u001B[49m\n\u001B[1;32m    487\u001B[0m \u001B[43m    \u001B[49m\u001B[43mOutput\u001B[49m\u001B[38;5;241;43m.\u001B[39;49m\u001B[43mBYTES\u001B[49m\u001B[43m:\u001B[49m\u001B[43m \u001B[49m\u001B[38;5;28;43;01mlambda\u001B[39;49;00m\u001B[43m:\u001B[49m\u001B[43m \u001B[49m\u001B[43mrun_and_get_output\u001B[49m\u001B[43m(\u001B[49m\u001B[38;5;241;43m*\u001B[39;49m\u001B[43m(\u001B[49m\u001B[43margs\u001B[49m\u001B[43m \u001B[49m\u001B[38;5;241;43m+\u001B[39;49m\u001B[43m \u001B[49m\u001B[43m[\u001B[49m\u001B[38;5;28;43;01mTrue\u001B[39;49;00m\u001B[43m]\u001B[49m\u001B[43m)\u001B[49m\u001B[43m)\u001B[49m\u001B[43m,\u001B[49m\n\u001B[1;32m    488\u001B[0m \u001B[43m    \u001B[49m\u001B[43mOutput\u001B[49m\u001B[38;5;241;43m.\u001B[39;49m\u001B[43mDICT\u001B[49m\u001B[43m:\u001B[49m\u001B[43m \u001B[49m\u001B[38;5;28;43;01mlambda\u001B[39;49;00m\u001B[43m:\u001B[49m\u001B[43m \u001B[49m\u001B[43m{\u001B[49m\u001B[38;5;124;43m'\u001B[39;49m\u001B[38;5;124;43mtext\u001B[39;49m\u001B[38;5;124;43m'\u001B[39;49m\u001B[43m:\u001B[49m\u001B[43m \u001B[49m\u001B[43mrun_and_get_output\u001B[49m\u001B[43m(\u001B[49m\u001B[38;5;241;43m*\u001B[39;49m\u001B[43margs\u001B[49m\u001B[43m)\u001B[49m\u001B[43m}\u001B[49m\u001B[43m,\u001B[49m\n\u001B[1;32m    489\u001B[0m \u001B[43m    \u001B[49m\u001B[43mOutput\u001B[49m\u001B[38;5;241;43m.\u001B[39;49m\u001B[43mSTRING\u001B[49m\u001B[43m:\u001B[49m\u001B[43m \u001B[49m\u001B[38;5;28;43;01mlambda\u001B[39;49;00m\u001B[43m:\u001B[49m\u001B[43m \u001B[49m\u001B[43mrun_and_get_output\u001B[49m\u001B[43m(\u001B[49m\u001B[38;5;241;43m*\u001B[39;49m\u001B[43margs\u001B[49m\u001B[43m)\u001B[49m\u001B[43m,\u001B[49m\n\u001B[1;32m    490\u001B[0m \u001B[43m\u001B[49m\u001B[43m}\u001B[49m\u001B[43m[\u001B[49m\u001B[43moutput_type\u001B[49m\u001B[43m]\u001B[49m\u001B[43m(\u001B[49m\u001B[43m)\u001B[49m\n",
      "File \u001B[0;32m/Library/Frameworks/Python.framework/Versions/3.12/lib/python3.12/site-packages/pytesseract/pytesseract.py:489\u001B[0m, in \u001B[0;36mimage_to_string.<locals>.<lambda>\u001B[0;34m()\u001B[0m\n\u001B[1;32m    481\u001B[0m \u001B[38;5;250m\u001B[39m\u001B[38;5;124;03m\"\"\"\u001B[39;00m\n\u001B[1;32m    482\u001B[0m \u001B[38;5;124;03mReturns the result of a Tesseract OCR run on the provided image to string\u001B[39;00m\n\u001B[1;32m    483\u001B[0m \u001B[38;5;124;03m\"\"\"\u001B[39;00m\n\u001B[1;32m    484\u001B[0m args \u001B[38;5;241m=\u001B[39m [image, \u001B[38;5;124m'\u001B[39m\u001B[38;5;124mtxt\u001B[39m\u001B[38;5;124m'\u001B[39m, lang, config, nice, timeout]\n\u001B[1;32m    486\u001B[0m \u001B[38;5;28;01mreturn\u001B[39;00m {\n\u001B[1;32m    487\u001B[0m     Output\u001B[38;5;241m.\u001B[39mBYTES: \u001B[38;5;28;01mlambda\u001B[39;00m: run_and_get_output(\u001B[38;5;241m*\u001B[39m(args \u001B[38;5;241m+\u001B[39m [\u001B[38;5;28;01mTrue\u001B[39;00m])),\n\u001B[1;32m    488\u001B[0m     Output\u001B[38;5;241m.\u001B[39mDICT: \u001B[38;5;28;01mlambda\u001B[39;00m: {\u001B[38;5;124m'\u001B[39m\u001B[38;5;124mtext\u001B[39m\u001B[38;5;124m'\u001B[39m: run_and_get_output(\u001B[38;5;241m*\u001B[39margs)},\n\u001B[0;32m--> 489\u001B[0m     Output\u001B[38;5;241m.\u001B[39mSTRING: \u001B[38;5;28;01mlambda\u001B[39;00m: \u001B[43mrun_and_get_output\u001B[49m\u001B[43m(\u001B[49m\u001B[38;5;241;43m*\u001B[39;49m\u001B[43margs\u001B[49m\u001B[43m)\u001B[49m,\n\u001B[1;32m    490\u001B[0m }[output_type]()\n",
      "File \u001B[0;32m/Library/Frameworks/Python.framework/Versions/3.12/lib/python3.12/site-packages/pytesseract/pytesseract.py:352\u001B[0m, in \u001B[0;36mrun_and_get_output\u001B[0;34m(image, extension, lang, config, nice, timeout, return_bytes)\u001B[0m\n\u001B[1;32m    341\u001B[0m \u001B[38;5;28;01mwith\u001B[39;00m save(image) \u001B[38;5;28;01mas\u001B[39;00m (temp_name, input_filename):\n\u001B[1;32m    342\u001B[0m     kwargs \u001B[38;5;241m=\u001B[39m {\n\u001B[1;32m    343\u001B[0m         \u001B[38;5;124m'\u001B[39m\u001B[38;5;124minput_filename\u001B[39m\u001B[38;5;124m'\u001B[39m: input_filename,\n\u001B[1;32m    344\u001B[0m         \u001B[38;5;124m'\u001B[39m\u001B[38;5;124moutput_filename_base\u001B[39m\u001B[38;5;124m'\u001B[39m: temp_name,\n\u001B[0;32m   (...)\u001B[0m\n\u001B[1;32m    349\u001B[0m         \u001B[38;5;124m'\u001B[39m\u001B[38;5;124mtimeout\u001B[39m\u001B[38;5;124m'\u001B[39m: timeout,\n\u001B[1;32m    350\u001B[0m     }\n\u001B[0;32m--> 352\u001B[0m     \u001B[43mrun_tesseract\u001B[49m\u001B[43m(\u001B[49m\u001B[38;5;241;43m*\u001B[39;49m\u001B[38;5;241;43m*\u001B[39;49m\u001B[43mkwargs\u001B[49m\u001B[43m)\u001B[49m\n\u001B[1;32m    353\u001B[0m     \u001B[38;5;28;01mreturn\u001B[39;00m _read_output(\n\u001B[1;32m    354\u001B[0m         \u001B[38;5;124mf\u001B[39m\u001B[38;5;124m\"\u001B[39m\u001B[38;5;132;01m{\u001B[39;00mkwargs[\u001B[38;5;124m'\u001B[39m\u001B[38;5;124moutput_filename_base\u001B[39m\u001B[38;5;124m'\u001B[39m]\u001B[38;5;132;01m}\u001B[39;00m\u001B[38;5;132;01m{\u001B[39;00mextsep\u001B[38;5;132;01m}\u001B[39;00m\u001B[38;5;132;01m{\u001B[39;00mextension\u001B[38;5;132;01m}\u001B[39;00m\u001B[38;5;124m\"\u001B[39m,\n\u001B[1;32m    355\u001B[0m         return_bytes,\n\u001B[1;32m    356\u001B[0m     )\n",
      "File \u001B[0;32m/Library/Frameworks/Python.framework/Versions/3.12/lib/python3.12/site-packages/pytesseract/pytesseract.py:282\u001B[0m, in \u001B[0;36mrun_tesseract\u001B[0;34m(input_filename, output_filename_base, extension, lang, config, nice, timeout)\u001B[0m\n\u001B[1;32m    279\u001B[0m     \u001B[38;5;28;01melse\u001B[39;00m:\n\u001B[1;32m    280\u001B[0m         \u001B[38;5;28;01mraise\u001B[39;00m TesseractNotFoundError()\n\u001B[0;32m--> 282\u001B[0m \u001B[43m\u001B[49m\u001B[38;5;28;43;01mwith\u001B[39;49;00m\u001B[43m \u001B[49m\u001B[43mtimeout_manager\u001B[49m\u001B[43m(\u001B[49m\u001B[43mproc\u001B[49m\u001B[43m,\u001B[49m\u001B[43m \u001B[49m\u001B[43mtimeout\u001B[49m\u001B[43m)\u001B[49m\u001B[43m \u001B[49m\u001B[38;5;28;43;01mas\u001B[39;49;00m\u001B[43m \u001B[49m\u001B[43merror_string\u001B[49m\u001B[43m:\u001B[49m\n\u001B[1;32m    283\u001B[0m \u001B[43m    \u001B[49m\u001B[38;5;28;43;01mif\u001B[39;49;00m\u001B[43m \u001B[49m\u001B[43mproc\u001B[49m\u001B[38;5;241;43m.\u001B[39;49m\u001B[43mreturncode\u001B[49m\u001B[43m:\u001B[49m\n\u001B[1;32m    284\u001B[0m \u001B[43m        \u001B[49m\u001B[38;5;28;43;01mraise\u001B[39;49;00m\u001B[43m \u001B[49m\u001B[43mTesseractError\u001B[49m\u001B[43m(\u001B[49m\u001B[43mproc\u001B[49m\u001B[38;5;241;43m.\u001B[39;49m\u001B[43mreturncode\u001B[49m\u001B[43m,\u001B[49m\u001B[43m \u001B[49m\u001B[43mget_errors\u001B[49m\u001B[43m(\u001B[49m\u001B[43merror_string\u001B[49m\u001B[43m)\u001B[49m\u001B[43m)\u001B[49m\n",
      "File \u001B[0;32m/Library/Frameworks/Python.framework/Versions/3.12/lib/python3.12/contextlib.py:137\u001B[0m, in \u001B[0;36m_GeneratorContextManager.__enter__\u001B[0;34m(self)\u001B[0m\n\u001B[1;32m    135\u001B[0m \u001B[38;5;28;01mdel\u001B[39;00m \u001B[38;5;28mself\u001B[39m\u001B[38;5;241m.\u001B[39margs, \u001B[38;5;28mself\u001B[39m\u001B[38;5;241m.\u001B[39mkwds, \u001B[38;5;28mself\u001B[39m\u001B[38;5;241m.\u001B[39mfunc\n\u001B[1;32m    136\u001B[0m \u001B[38;5;28;01mtry\u001B[39;00m:\n\u001B[0;32m--> 137\u001B[0m     \u001B[38;5;28;01mreturn\u001B[39;00m \u001B[38;5;28;43mnext\u001B[39;49m\u001B[43m(\u001B[49m\u001B[38;5;28;43mself\u001B[39;49m\u001B[38;5;241;43m.\u001B[39;49m\u001B[43mgen\u001B[49m\u001B[43m)\u001B[49m\n\u001B[1;32m    138\u001B[0m \u001B[38;5;28;01mexcept\u001B[39;00m \u001B[38;5;167;01mStopIteration\u001B[39;00m:\n\u001B[1;32m    139\u001B[0m     \u001B[38;5;28;01mraise\u001B[39;00m \u001B[38;5;167;01mRuntimeError\u001B[39;00m(\u001B[38;5;124m\"\u001B[39m\u001B[38;5;124mgenerator didn\u001B[39m\u001B[38;5;124m'\u001B[39m\u001B[38;5;124mt yield\u001B[39m\u001B[38;5;124m\"\u001B[39m) \u001B[38;5;28;01mfrom\u001B[39;00m \u001B[38;5;28;01mNone\u001B[39;00m\n",
      "File \u001B[0;32m/Library/Frameworks/Python.framework/Versions/3.12/lib/python3.12/site-packages/pytesseract/pytesseract.py:144\u001B[0m, in \u001B[0;36mtimeout_manager\u001B[0;34m(proc, seconds)\u001B[0m\n\u001B[1;32m    142\u001B[0m \u001B[38;5;28;01mtry\u001B[39;00m:\n\u001B[1;32m    143\u001B[0m     \u001B[38;5;28;01mif\u001B[39;00m \u001B[38;5;129;01mnot\u001B[39;00m seconds:\n\u001B[0;32m--> 144\u001B[0m         \u001B[38;5;28;01myield\u001B[39;00m \u001B[43mproc\u001B[49m\u001B[38;5;241;43m.\u001B[39;49m\u001B[43mcommunicate\u001B[49m\u001B[43m(\u001B[49m\u001B[43m)\u001B[49m[\u001B[38;5;241m1\u001B[39m]\n\u001B[1;32m    145\u001B[0m         \u001B[38;5;28;01mreturn\u001B[39;00m\n\u001B[1;32m    147\u001B[0m     \u001B[38;5;28;01mtry\u001B[39;00m:\n",
      "File \u001B[0;32m/Library/Frameworks/Python.framework/Versions/3.12/lib/python3.12/subprocess.py:1209\u001B[0m, in \u001B[0;36mPopen.communicate\u001B[0;34m(self, input, timeout)\u001B[0m\n\u001B[1;32m   1206\u001B[0m     endtime \u001B[38;5;241m=\u001B[39m \u001B[38;5;28;01mNone\u001B[39;00m\n\u001B[1;32m   1208\u001B[0m \u001B[38;5;28;01mtry\u001B[39;00m:\n\u001B[0;32m-> 1209\u001B[0m     stdout, stderr \u001B[38;5;241m=\u001B[39m \u001B[38;5;28;43mself\u001B[39;49m\u001B[38;5;241;43m.\u001B[39;49m\u001B[43m_communicate\u001B[49m\u001B[43m(\u001B[49m\u001B[38;5;28;43minput\u001B[39;49m\u001B[43m,\u001B[49m\u001B[43m \u001B[49m\u001B[43mendtime\u001B[49m\u001B[43m,\u001B[49m\u001B[43m \u001B[49m\u001B[43mtimeout\u001B[49m\u001B[43m)\u001B[49m\n\u001B[1;32m   1210\u001B[0m \u001B[38;5;28;01mexcept\u001B[39;00m \u001B[38;5;167;01mKeyboardInterrupt\u001B[39;00m:\n\u001B[1;32m   1211\u001B[0m     \u001B[38;5;66;03m# https://bugs.python.org/issue25942\u001B[39;00m\n\u001B[1;32m   1212\u001B[0m     \u001B[38;5;66;03m# See the detailed comment in .wait().\u001B[39;00m\n\u001B[1;32m   1213\u001B[0m     \u001B[38;5;28;01mif\u001B[39;00m timeout \u001B[38;5;129;01mis\u001B[39;00m \u001B[38;5;129;01mnot\u001B[39;00m \u001B[38;5;28;01mNone\u001B[39;00m:\n",
      "File \u001B[0;32m/Library/Frameworks/Python.framework/Versions/3.12/lib/python3.12/subprocess.py:2108\u001B[0m, in \u001B[0;36mPopen._communicate\u001B[0;34m(self, input, endtime, orig_timeout)\u001B[0m\n\u001B[1;32m   2101\u001B[0m     \u001B[38;5;28mself\u001B[39m\u001B[38;5;241m.\u001B[39m_check_timeout(endtime, orig_timeout,\n\u001B[1;32m   2102\u001B[0m                         stdout, stderr,\n\u001B[1;32m   2103\u001B[0m                         skip_check_and_raise\u001B[38;5;241m=\u001B[39m\u001B[38;5;28;01mTrue\u001B[39;00m)\n\u001B[1;32m   2104\u001B[0m     \u001B[38;5;28;01mraise\u001B[39;00m \u001B[38;5;167;01mRuntimeError\u001B[39;00m(  \u001B[38;5;66;03m# Impossible :)\u001B[39;00m\n\u001B[1;32m   2105\u001B[0m         \u001B[38;5;124m'\u001B[39m\u001B[38;5;124m_check_timeout(..., skip_check_and_raise=True) \u001B[39m\u001B[38;5;124m'\u001B[39m\n\u001B[1;32m   2106\u001B[0m         \u001B[38;5;124m'\u001B[39m\u001B[38;5;124mfailed to raise TimeoutExpired.\u001B[39m\u001B[38;5;124m'\u001B[39m)\n\u001B[0;32m-> 2108\u001B[0m ready \u001B[38;5;241m=\u001B[39m \u001B[43mselector\u001B[49m\u001B[38;5;241;43m.\u001B[39;49m\u001B[43mselect\u001B[49m\u001B[43m(\u001B[49m\u001B[43mtimeout\u001B[49m\u001B[43m)\u001B[49m\n\u001B[1;32m   2109\u001B[0m \u001B[38;5;28mself\u001B[39m\u001B[38;5;241m.\u001B[39m_check_timeout(endtime, orig_timeout, stdout, stderr)\n\u001B[1;32m   2111\u001B[0m \u001B[38;5;66;03m# XXX Rewrite these to use non-blocking I/O on the file\u001B[39;00m\n\u001B[1;32m   2112\u001B[0m \u001B[38;5;66;03m# objects; they are no longer using C stdio!\u001B[39;00m\n",
      "File \u001B[0;32m/Library/Frameworks/Python.framework/Versions/3.12/lib/python3.12/selectors.py:415\u001B[0m, in \u001B[0;36m_PollLikeSelector.select\u001B[0;34m(self, timeout)\u001B[0m\n\u001B[1;32m    413\u001B[0m ready \u001B[38;5;241m=\u001B[39m []\n\u001B[1;32m    414\u001B[0m \u001B[38;5;28;01mtry\u001B[39;00m:\n\u001B[0;32m--> 415\u001B[0m     fd_event_list \u001B[38;5;241m=\u001B[39m \u001B[38;5;28;43mself\u001B[39;49m\u001B[38;5;241;43m.\u001B[39;49m\u001B[43m_selector\u001B[49m\u001B[38;5;241;43m.\u001B[39;49m\u001B[43mpoll\u001B[49m\u001B[43m(\u001B[49m\u001B[43mtimeout\u001B[49m\u001B[43m)\u001B[49m\n\u001B[1;32m    416\u001B[0m \u001B[38;5;28;01mexcept\u001B[39;00m \u001B[38;5;167;01mInterruptedError\u001B[39;00m:\n\u001B[1;32m    417\u001B[0m     \u001B[38;5;28;01mreturn\u001B[39;00m ready\n",
      "\u001B[0;31mKeyboardInterrupt\u001B[0m: "
     ]
    }
   ],
   "execution_count": 23
  },
  {
   "metadata": {
    "ExecuteTime": {
     "end_time": "2025-05-09T23:58:57.035246Z",
     "start_time": "2025-05-09T23:58:03.452193Z"
    }
   },
   "cell_type": "code",
   "source": [
    "import cv2\n",
    "import pytesseract\n",
    "from pytesseract import Output\n",
    "from transformers import MarianMTModel, MarianTokenizer\n",
    "import torch\n",
    "\n",
    "# -----------------------------\n",
    "# Load Machine Translation Model\n",
    "# -----------------------------\n",
    "class TranslationModel:\n",
    "    def __init__(self):\n",
    "        model_name = \"Helsinki-NLP/opus-mt-en-ar\"  # You can change this\n",
    "        self.tokenizer = MarianTokenizer.from_pretrained(model_name)\n",
    "        self.model = MarianMTModel.from_pretrained(model_name)\n",
    "\n",
    "    def translate(self, text):\n",
    "        inputs = self.tokenizer(text, return_tensors=\"pt\", padding=True, truncation=True)\n",
    "        with torch.no_grad():\n",
    "            translated = self.model.generate(**inputs)\n",
    "        return self.tokenizer.decode(translated[0], skip_special_tokens=True)\n",
    "\n",
    "# Create model instance\n",
    "mtmodel = TranslationModel()\n",
    "\n",
    "# -----------------------------\n",
    "# OCR + Translation Function\n",
    "# -----------------------------\n",
    "def process_frame_with_ocr(frame):\n",
    "    gray = cv2.cvtColor(frame, cv2.COLOR_BGR2GRAY)\n",
    "\n",
    "    # Tesseract config for better detection\n",
    "    custom_config = r'--oem 3 --psm 6'\n",
    "    data = pytesseract.image_to_data(gray, lang='eng+ara', config=custom_config, output_type=Output.DICT)\n",
    "\n",
    "    n_boxes = len(data['text'])\n",
    "    for i in range(n_boxes):\n",
    "        text = data['text'][i].strip()\n",
    "        if text:\n",
    "            (x, y, w, h) = (data['left'][i], data['top'][i], data['width'][i], data['height'][i])\n",
    "\n",
    "            # Translate using your model\n",
    "            translated = mtmodel.translate(text)\n",
    "\n",
    "            # Draw box and put text\n",
    "            cv2.rectangle(frame, (x, y), (x + w, y + h), (0, 255, 0), 2)\n",
    "            display_text = f\"{text} => {translated}\"\n",
    "            cv2.putText(frame, display_text, (x, y - 10), cv2.FONT_HERSHEY_SIMPLEX,\n",
    "                        0.5, (255, 0, 0), 1, cv2.LINE_AA)\n",
    "\n",
    "    return frame\n",
    "\n",
    "# -----------------------------\n",
    "# Webcam Loop\n",
    "# -----------------------------\n",
    "def main():\n",
    "    cap = cv2.VideoCapture(0)\n",
    "    print(\"Press SPACE to translate frame. Press Q to quit.\")\n",
    "\n",
    "    while True:\n",
    "        ret, frame = cap.read()\n",
    "        if not ret:\n",
    "            break\n",
    "\n",
    "        cv2.imshow(\"Live Camera\", frame)\n",
    "\n",
    "        key = cv2.waitKey(1) & 0xFF\n",
    "        if key == ord(' '):  # Press Space to process\n",
    "            processed = process_frame_with_ocr(frame.copy())\n",
    "            cv2.imshow(\"Translated Frame\", processed)\n",
    "        elif key == ord('q'):\n",
    "            break\n",
    "\n",
    "    cap.release()\n",
    "    cv2.destroyAllWindows()\n",
    "\n",
    "# -----------------------------\n",
    "# Run\n",
    "# -----------------------------\n",
    "if __name__ == \"__main__\":\n",
    "    main()"
   ],
   "id": "5ef7ee4c324a03d7",
   "outputs": [
    {
     "name": "stderr",
     "output_type": "stream",
     "text": [
      "/Library/Frameworks/Python.framework/Versions/3.12/lib/python3.12/site-packages/transformers/models/marian/tokenization_marian.py:175: UserWarning: Recommended: pip install sacremoses.\n",
      "  warnings.warn(\"Recommended: pip install sacremoses.\")\n"
     ]
    },
    {
     "name": "stdout",
     "output_type": "stream",
     "text": [
      "Press SPACE to translate frame. Press Q to quit.\n"
     ]
    }
   ],
   "execution_count": 1
  },
  {
   "metadata": {
    "ExecuteTime": {
     "end_time": "2025-05-09T23:56:32.532472Z",
     "start_time": "2025-05-09T23:56:27.450423Z"
    }
   },
   "cell_type": "code",
   "source": [
    "from transformers import MarianMTModel, MarianTokenizer\n",
    "\n",
    "# Load the model and tokenizer\n",
    "model_name = \"Helsinki-NLP/opus-mt-en-ar\"\n",
    "tokenizer = MarianTokenizer.from_pretrained(model_name)\n",
    "model = MarianMTModel.from_pretrained(model_name)\n",
    "\n",
    "# Translate function\n",
    "def translate(text):\n",
    "    inputs = tokenizer(text, return_tensors=\"pt\", padding=True, truncation=True)\n",
    "    translated = model.generate(**inputs)\n",
    "    return tokenizer.decode(translated[0], skip_special_tokens=True)\n",
    "\n",
    "# Example usage\n",
    "print(translate(\"Hello, how are you?\"))"
   ],
   "id": "af505a6741c2671a",
   "outputs": [
    {
     "name": "stderr",
     "output_type": "stream",
     "text": [
      "/Library/Frameworks/Python.framework/Versions/3.12/lib/python3.12/site-packages/transformers/models/marian/tokenization_marian.py:175: UserWarning: Recommended: pip install sacremoses.\n",
      "  warnings.warn(\"Recommended: pip install sacremoses.\")\n"
     ]
    },
    {
     "name": "stdout",
     "output_type": "stream",
     "text": [
      "مرحباً، كيف حالك؟\n"
     ]
    }
   ],
   "execution_count": 28
  },
  {
   "metadata": {},
   "cell_type": "code",
   "outputs": [],
   "execution_count": null,
   "source": "",
   "id": "c1f4fba1787e0501"
  }
 ],
 "metadata": {
  "kernelspec": {
   "display_name": "Python 3",
   "language": "python",
   "name": "python3"
  },
  "language_info": {
   "codemirror_mode": {
    "name": "ipython",
    "version": 2
   },
   "file_extension": ".py",
   "mimetype": "text/x-python",
   "name": "python",
   "nbconvert_exporter": "python",
   "pygments_lexer": "ipython2",
   "version": "2.7.6"
  }
 },
 "nbformat": 4,
 "nbformat_minor": 5
}
