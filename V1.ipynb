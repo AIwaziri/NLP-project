{
 "cells": [
  {
   "cell_type": "code",
   "id": "initial_id",
   "metadata": {
    "collapsed": true
   },
   "source": "!pip install pytesseract pillow nltk spacy",
   "outputs": [],
   "execution_count": null
  },
  {
   "metadata": {
    "ExecuteTime": {
     "end_time": "2025-05-09T22:56:30.721660Z",
     "start_time": "2025-05-09T22:56:24.282549Z"
    }
   },
   "cell_type": "code",
   "source": [
    "from PIL import Image\n",
    "import pytesseract\n",
    "\n",
    "# Load image from file\n",
    "image_path = 'testimage1.png'\n",
    "image = Image.open(image_path)\n",
    "\n",
    "# OCR text extraction\n",
    "text = pytesseract.image_to_string(image)\n",
    "\n",
    "print(\"🔍 Extracted Text:\")\n",
    "print(text)"
   ],
   "id": "efce01f37754d205",
   "outputs": [
    {
     "name": "stdout",
     "output_type": "stream",
     "text": [
      "🔍 Extracted Text:\n",
      "OCR.pdf\n",
      "Home Tools OCR pat x KO)\n",
      "A®SBBQ 11 kk OOO wm - RB T ©\n",
      "\n",
      "v\n",
      "\n",
      "Edit PDF ~ ‘fy Edit [Gl] Addimage cP tink ~ [7 cropPages [E) Header& Footer ~ ++\n",
      "\n",
      "FORMAT\n",
      "\n",
      "‘Fidelity (Ties\n",
      "\n",
      "INVESTMENT\n",
      "T\n",
      "\n",
      "This is an OCR\n",
      "\n",
      "(optical Chacacrec recogni Kon)\n",
      "test fe Tech Terms. com.\n",
      "\n",
      "Dwar AY or ~\n",
      "\n",
      "SCANNED DOCUMENTS\n",
      "= HF settings\n",
      "\n",
      "The following text was recogmized Iny OCTR: » ED Recognises\n",
      "\n",
      "C1 show bounding boxes\n",
      "\n",
      "CO Restrict editing\n",
      "\n",
      "Tes tis <A in OCIR\n",
      "\n",
      "p.\\-. CA.\\ Ol\\o.. <\" ().. ¢.:\\-u , +¢.0'.3 n\\ k'\\o \")\n",
      "\n",
      "t+-e5\\- tt>,\\e \\.e,(\"'\" CW\\S. C..0oM\n",
      "\n",
      "worw fidelity coum\n",
      "\n",
      "www.fidelity.com\n",
      "\n",
      "\n"
     ]
    }
   ],
   "execution_count": 1
  },
  {
   "metadata": {},
   "cell_type": "code",
   "outputs": [],
   "execution_count": null,
   "source": "",
   "id": "d6361d80f88f8fd0"
  }
 ],
 "metadata": {
  "kernelspec": {
   "display_name": "Python 3",
   "language": "python",
   "name": "python3"
  },
  "language_info": {
   "codemirror_mode": {
    "name": "ipython",
    "version": 2
   },
   "file_extension": ".py",
   "mimetype": "text/x-python",
   "name": "python",
   "nbconvert_exporter": "python",
   "pygments_lexer": "ipython2",
   "version": "2.7.6"
  }
 },
 "nbformat": 4,
 "nbformat_minor": 5
}
