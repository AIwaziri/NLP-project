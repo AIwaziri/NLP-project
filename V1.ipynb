{
 "cells": [
  {
   "cell_type": "code",
   "id": "initial_id",
   "metadata": {
    "collapsed": true
   },
   "source": "!pip install pytesseract pillow nltk spacy",
   "outputs": [],
   "execution_count": null
  },
  {
   "metadata": {},
   "cell_type": "code",
   "outputs": [],
   "execution_count": null,
   "source": [
    "from PIL import Image\n",
    "import pytesseract\n",
    "\n",
    "# Load image from file\n",
    "image_path = 'your_image.jpg'\n",
    "image = Image.open(image_path)\n",
    "\n",
    "# OCR text extraction\n",
    "text = pytesseract.image_to_string(image)\n",
    "\n",
    "print(\"🔍 Extracted Text:\")\n",
    "print(text)"
   ],
   "id": "efce01f37754d205"
  }
 ],
 "metadata": {
  "kernelspec": {
   "display_name": "Python 3",
   "language": "python",
   "name": "python3"
  },
  "language_info": {
   "codemirror_mode": {
    "name": "ipython",
    "version": 2
   },
   "file_extension": ".py",
   "mimetype": "text/x-python",
   "name": "python",
   "nbconvert_exporter": "python",
   "pygments_lexer": "ipython2",
   "version": "2.7.6"
  }
 },
 "nbformat": 4,
 "nbformat_minor": 5
}
