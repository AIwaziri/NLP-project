{
 "cells": [
  {
   "cell_type": "code",
   "id": "initial_id",
   "metadata": {
    "collapsed": true,
    "ExecuteTime": {
     "end_time": "2025-05-09T23:14:03.780444Z",
     "start_time": "2025-05-09T23:14:00.977891Z"
    }
   },
   "source": [
    "import pytesseract\n",
    "import spacy\n",
    "from PIL import Image"
   ],
   "outputs": [],
   "execution_count": 3
  },
  {
   "metadata": {
    "ExecuteTime": {
     "end_time": "2025-05-09T23:14:12.191626Z",
     "start_time": "2025-05-09T23:14:11.689720Z"
    }
   },
   "cell_type": "code",
   "source": [
    "# Load spaCy model\n",
    "nlp = spacy.load('en_core_web_sm')"
   ],
   "id": "ebe3e299ad606dd",
   "outputs": [],
   "execution_count": 4
  },
  {
   "metadata": {
    "ExecuteTime": {
     "end_time": "2025-05-09T23:14:18.916386Z",
     "start_time": "2025-05-09T23:14:18.895855Z"
    }
   },
   "cell_type": "code",
   "source": [
    "# Function to extract text using OCR\n",
    "def ocr_text(image_path):\n",
    "    img = Image.open(image_path)\n",
    "    text = pytesseract.image_to_string(img)\n",
    "    return text"
   ],
   "id": "5ef892fe38cf3413",
   "outputs": [],
   "execution_count": 5
  },
  {
   "metadata": {
    "ExecuteTime": {
     "end_time": "2025-05-09T23:18:55.267709Z",
     "start_time": "2025-05-09T23:18:53.724847Z"
    }
   },
   "cell_type": "code",
   "source": [
    "# Example usage: OCR on an image\n",
    "image_path = 'testimage.jpeg'\n",
    "ocr_output = ocr_text(image_path)\n",
    "print(ocr_output)  # Raw OCR text"
   ],
   "id": "2901dce948b962f5",
   "outputs": [
    {
     "name": "stdout",
     "output_type": "stream",
     "text": [
      "2:15 ©) 3311 5G @BD\n",
      "\n",
      "Mobily\n",
      "Today 1:18 AM\n",
      "\n",
      "Dear Customer,\n",
      "\n",
      "Your request has been received\n",
      "successfully, and it will be\n",
      "confirmed shortly. Please wait for\n",
      "the confirmation SMS.\n",
      "\n",
      "Dear Customer,\n",
      "\n",
      "You have successfully subscribed to\n",
      "Mobily Prepaid Daily Bundle.\n",
      "\n",
      "Subscription details:\n",
      "\n",
      "Unlimited Local Internet 50 National\n",
      "Minutes to All Networks\n",
      "Subscription Fee: SAR 20\n",
      "\n",
      "Valid till: 11/05/2025\n",
      "\n",
      "Subscription Type: One Time\n",
      "\n",
      "You can check your balance, pay\n",
      "and manage your services using\n",
      "Mobily App\n",
      "\n"
     ]
    }
   ],
   "execution_count": 6
  },
  {
   "metadata": {
    "ExecuteTime": {
     "end_time": "2025-05-09T23:19:30.494842Z",
     "start_time": "2025-05-09T23:19:30.397083Z"
    }
   },
   "cell_type": "code",
   "source": [
    "# Process the OCR text with spaCy\n",
    "doc = nlp(ocr_output)\n",
    "\n",
    "# Print Named Entities\n",
    "for ent in doc.ents:\n",
    "    print(ent.text, ent.label_)"
   ],
   "id": "f94f9de12443d769",
   "outputs": [
    {
     "name": "stdout",
     "output_type": "stream",
     "text": [
      "3311 5 DATE\n",
      "Today 1:18 AM TIME\n",
      "Mobily Prepaid Daily Bundle ORG\n",
      "50 CARDINAL\n",
      "All Networks\n",
      "Subscription Fee: SAR ORG\n",
      "20 CARDINAL\n",
      "11/05/2025 ORDINAL\n",
      "One CARDINAL\n",
      "Mobily App\n",
      " PERSON\n"
     ]
    }
   ],
   "execution_count": 7
  },
  {
   "metadata": {},
   "cell_type": "code",
   "outputs": [],
   "execution_count": null,
   "source": "",
   "id": "99c7db302ac95ebb"
  }
 ],
 "metadata": {
  "kernelspec": {
   "display_name": "Python 3",
   "language": "python",
   "name": "python3"
  },
  "language_info": {
   "codemirror_mode": {
    "name": "ipython",
    "version": 2
   },
   "file_extension": ".py",
   "mimetype": "text/x-python",
   "name": "python",
   "nbconvert_exporter": "python",
   "pygments_lexer": "ipython2",
   "version": "2.7.6"
  }
 },
 "nbformat": 4,
 "nbformat_minor": 5
}
